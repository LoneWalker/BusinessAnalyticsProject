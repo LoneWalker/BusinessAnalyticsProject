{
 "cells": [
  {
   "cell_type": "code",
   "execution_count": 46,
   "metadata": {},
   "outputs": [],
   "source": [
    "import glob\n",
    "import json\n",
    "import nltk\n",
    "from nltk.tokenize import word_tokenize\n",
    "from nltk.corpus import stopwords\n",
    "import string\n",
    "import re\n",
    "import operator \n",
    "from collections import Counter\n",
    "from nltk import bigrams\n",
    "import pandas as pd\n",
    "import csv\n",
    "import unicodecsv\n",
    "import os\n",
    "import glob"
   ]
  },
  {
   "cell_type": "code",
   "execution_count": 53,
   "metadata": {},
   "outputs": [],
   "source": [
    "#This function returns absolute path of all the files in a directory as a dictionary\n",
    "def allFileNamesInDir(dirName):\n",
    "    itr = glob.glob(os.path.join(directory, '*.json'))\n",
    "    dir_map={}\n",
    "    for filename in itr:\n",
    "        #print(re.search(r'\\d{1,2}',filename).group(0))\n",
    "        dir_map[int(re.search(r'\\d{1,5}',filename).group(0))]=filename\n",
    "    return dir_map"
   ]
  },
  {
   "cell_type": "markdown",
   "metadata": {},
   "source": [
    "Loading data file names from the directory and gathering them in a map to iterate in a sorted order"
   ]
  },
  {
   "cell_type": "code",
   "execution_count": 47,
   "metadata": {},
   "outputs": [],
   "source": [
    "directory = '/Users/azhar/Documents/python/data/'\n",
    "dir_map = allFileNamesInDir(directory)"
   ]
  },
  {
   "cell_type": "markdown",
   "metadata": {},
   "source": [
    "<h2> No need to call run the next codeblock if new lines are already removed </h2>\n",
    "Removing empty lines from all the files and renaming them as 0.json, 1.json ..."
   ]
  },
  {
   "cell_type": "code",
   "execution_count": 49,
   "metadata": {},
   "outputs": [],
   "source": [
    "newfile_name_format = directory+'{}'+'.json'\n",
    "\n",
    "for i in range(len(dir_map)):\n",
    "#for i in dir_map:\n",
    "    with open(dir_map[i]) as infile, open(newfile_name_format.format(i), 'w') as outfile:\n",
    "        for line in infile:\n",
    "            if not line.strip(): continue  # skip the empty line\n",
    "            outfile.write(line)  # non-empty line. Write it to output\n",
    "    os.remove(dir_map[i]) # removing the old file"
   ]
  },
  {
   "cell_type": "code",
   "execution_count": 82,
   "metadata": {},
   "outputs": [
    {
     "name": "stdout",
     "output_type": "stream",
     "text": [
      "/Volumes/Untitled/data/0.json\n",
      "/Volumes/Untitled/data/1.json\n",
      "/Volumes/Untitled/data/2.json\n",
      "/Volumes/Untitled/data/3.json\n",
      "/Volumes/Untitled/data/4.json\n",
      "/Volumes/Untitled/data/5.json\n",
      "/Volumes/Untitled/data/6.json\n",
      "/Volumes/Untitled/data/7.json\n",
      "/Volumes/Untitled/data/8.json\n",
      "/Volumes/Untitled/data/9.json\n",
      "/Volumes/Untitled/data/10.json\n",
      "/Volumes/Untitled/data/11.json\n",
      "/Volumes/Untitled/data/12.json\n",
      "/Volumes/Untitled/data/13.json\n",
      "/Volumes/Untitled/data/14.json\n",
      "/Volumes/Untitled/data/15.json\n",
      "/Volumes/Untitled/data/16.json\n",
      "/Volumes/Untitled/data/17.json\n",
      "/Volumes/Untitled/data/18.json\n",
      "/Volumes/Untitled/data/19.json\n",
      "/Volumes/Untitled/data/20.json\n",
      "/Volumes/Untitled/data/21.json\n",
      "/Volumes/Untitled/data/22.json\n",
      "/Volumes/Untitled/data/23.json\n",
      "/Volumes/Untitled/data/24.json\n"
     ]
    }
   ],
   "source": [
    "#showing all the file names in sorted order\n",
    "directory = '/Volumes/Untitled/data/'\n",
    "all_files = allFileNamesInDir(directory)\n",
    "for i in range(len(all_files)):\n",
    "    print(all_files[i])"
   ]
  },
  {
   "cell_type": "code",
   "execution_count": 83,
   "metadata": {},
   "outputs": [
    {
     "data": {
      "text/plain": [
       "{'contributors': None,\n",
       " 'coordinates': None,\n",
       " 'created_at': 'Tue Feb 13 23:09:37 +0000 2018',\n",
       " 'display_text_range': [15, 140],\n",
       " 'entities': {'hashtags': [],\n",
       "  'symbols': [],\n",
       "  'urls': [{'display_url': 'twitter.com/i/web/status/9…',\n",
       "    'expanded_url': 'https://twitter.com/i/web/status/963550760012271616',\n",
       "    'indices': [117, 140],\n",
       "    'url': 'https://t.co/VX6ALHjESH'}],\n",
       "  'user_mentions': [{'id': 1850835966,\n",
       "    'id_str': '1850835966',\n",
       "    'indices': [0, 14],\n",
       "    'name': 'Criptominers',\n",
       "    'screen_name': 'cripto_miners'}]},\n",
       " 'extended_tweet': {'display_text_range': [15, 268],\n",
       "  'entities': {'hashtags': [],\n",
       "   'symbols': [],\n",
       "   'urls': [],\n",
       "   'user_mentions': [{'id': 1850835966,\n",
       "     'id_str': '1850835966',\n",
       "     'indices': [0, 14],\n",
       "     'name': 'Criptominers',\n",
       "     'screen_name': 'cripto_miners'}]},\n",
       "  'full_text': '@cripto_miners Bitcoin Gold (BTG) is gaining popularity and becoming more expensive, but you still don’t own it? You have a unique chance to profit and exchange without commission &amp; no confirmations! 1BTC=67BTG &amp; 1BTG=125$ More details and info: btg-claim .com'},\n",
       " 'favorite_count': 0,\n",
       " 'favorited': False,\n",
       " 'filter_level': 'low',\n",
       " 'geo': None,\n",
       " 'id': 963550760012271616,\n",
       " 'id_str': '963550760012271616',\n",
       " 'in_reply_to_screen_name': 'cripto_miners',\n",
       " 'in_reply_to_status_id': 963550609873035264,\n",
       " 'in_reply_to_status_id_str': '963550609873035264',\n",
       " 'in_reply_to_user_id': 1850835966,\n",
       " 'in_reply_to_user_id_str': '1850835966',\n",
       " 'is_quote_status': False,\n",
       " 'lang': 'en',\n",
       " 'place': None,\n",
       " 'quote_count': 0,\n",
       " 'reply_count': 0,\n",
       " 'retweet_count': 0,\n",
       " 'retweeted': False,\n",
       " 'source': '<a href=\"http://twitter.com\" rel=\"nofollow\">Twitter Web Client</a>',\n",
       " 'text': '@cripto_miners Bitcoin Gold (BTG) is gaining popularity and becoming more expensive, but you still don’t own it? Yo… https://t.co/VX6ALHjESH',\n",
       " 'timestamp_ms': '1518563377751',\n",
       " 'truncated': True,\n",
       " 'user': {'contributors_enabled': False,\n",
       "  'created_at': 'Fri Sep 01 13:06:34 +0000 2017',\n",
       "  'default_profile': True,\n",
       "  'default_profile_image': False,\n",
       "  'description': None,\n",
       "  'favourites_count': 0,\n",
       "  'follow_request_sent': None,\n",
       "  'followers_count': 0,\n",
       "  'following': None,\n",
       "  'friends_count': 0,\n",
       "  'geo_enabled': False,\n",
       "  'id': 903604997564325888,\n",
       "  'id_str': '903604997564325888',\n",
       "  'is_translator': False,\n",
       "  'lang': 'ru',\n",
       "  'listed_count': 0,\n",
       "  'location': None,\n",
       "  'name': 'Галина Гордеева',\n",
       "  'notifications': None,\n",
       "  'profile_background_color': 'F5F8FA',\n",
       "  'profile_background_image_url': '',\n",
       "  'profile_background_image_url_https': '',\n",
       "  'profile_background_tile': False,\n",
       "  'profile_image_url': 'http://abs.twimg.com/sticky/default_profile_images/default_profile_normal.png',\n",
       "  'profile_image_url_https': 'https://abs.twimg.com/sticky/default_profile_images/default_profile_normal.png',\n",
       "  'profile_link_color': '1DA1F2',\n",
       "  'profile_sidebar_border_color': 'C0DEED',\n",
       "  'profile_sidebar_fill_color': 'DDEEF6',\n",
       "  'profile_text_color': '333333',\n",
       "  'profile_use_background_image': True,\n",
       "  'protected': False,\n",
       "  'screen_name': 'NYs1YM9lziqMuwR',\n",
       "  'statuses_count': 96,\n",
       "  'time_zone': None,\n",
       "  'translator_type': 'none',\n",
       "  'url': None,\n",
       "  'utc_offset': None,\n",
       "  'verified': False}}"
      ]
     },
     "execution_count": 83,
     "metadata": {},
     "output_type": "execute_result"
    }
   ],
   "source": [
    "line = None\n",
    "with open(all_files[0],'r') as f:\n",
    "    line = f.readline()\n",
    "\n",
    "tweet =  json.loads(line)\n",
    "tweet"
   ]
  },
  {
   "cell_type": "code",
   "execution_count": 80,
   "metadata": {},
   "outputs": [],
   "source": [
    "lines = None\n",
    "with open(all_files[0],'r') as f:\n",
    "    lines = f.readlines()\n",
    "\n",
    "maximum = lines[0]\n",
    "for line in lines:\n",
    "    if len(json.loads(line) > json.loads(maximum)):\n",
    "        "
   ]
  },
  {
   "cell_type": "code",
   "execution_count": 123,
   "metadata": {},
   "outputs": [
    {
     "name": "stdout",
     "output_type": "stream",
     "text": [
      "writing to output file = /Volumes/Untitled/data/csv/0.csv\n",
      "total columns = 49\n",
      "total rows = 7506\n",
      "--------------------------------------------------------------------------------------\n"
     ]
    }
   ],
   "source": [
    "#Finding all the files in directory as a list\n",
    "\n",
    "csv_dir = os.path.join(directory, 'csv/')\n",
    "output_csv_file_name_format = csv_dir +'{}'+'.csv'\n",
    "\n",
    "onlyfiles = allFileNamesInDir(directory)\n",
    "\n",
    "#read the files and insert tweets into tweetsList\n",
    "for t in range(0,1):\n",
    "    f = open(onlyfiles[t], \"r\")\n",
    "    lines = f.readlines()\n",
    "    f.close\n",
    "    x=0\n",
    "    tweetsList = []\n",
    "    for line in lines:\n",
    "        try:\n",
    "            tweet = json.loads(line)\n",
    "            tweetsList.append(tweet)\n",
    "            x= x+1;\n",
    "        except Exception as e:\n",
    "            continue\n",
    "    #creating data frame\n",
    "    tweets = pd.DataFrame(tweetsList)\n",
    "    #print(len(tweets))\n",
    "    #print(tweets.head(1))\n",
    "\n",
    "    #droping limit columns created due to empty lines\n",
    "    if 'limit' in tweets.columns:\n",
    "        tweets = tweets.drop(['limit'], axis=1)\n",
    "\n",
    "    # dropping rows will all nan\n",
    "    tweets = tweets.dropna(axis=0, how='all')\n",
    "\n",
    "    #Adding user info to data frame columns\n",
    "    l1 = ['user_id', 'user_created_at', 'user_followers_count', 'user_friends_count', 'user_location', 'user_screen_name', 'user_verified', 'user_description']\n",
    "    l2 = ['id', 'created_at', 'followers_count', 'friends_count', 'location', 'screen_name', 'verified', 'description']\n",
    "    for i in range(0, len(l1)):\n",
    "        tweets[l1[i]] = list(map(lambda tweet: tweet[l2[i]] if tweet!= None else None, tweets['user'].tolist()))\n",
    "\n",
    "    #Adding location info to data frame columns\n",
    "    l3 = ['place_bounding_box', 'place_country', 'place_country_code', 'place_full_name', 'place_name', 'place_place_type']\n",
    "    l4 = ['bounding_box', 'country', 'country_code', 'full_name', 'name', 'place_type']\n",
    "    for i in range(0, len(l3)):\n",
    "        tweets[l3[i]] = list(map(lambda tweet: tweet[l4[i]] if tweet!= None else None, tweets['place'].tolist()))\n",
    "\n",
    "#    tweets.head()\n",
    "    print('writing to output file = '+output_csv_file_name_format.format(t))\n",
    "    print('total columns = '+ str(len(tweets.columns)))\n",
    "    print('total rows = '+ str(len(tweets)))\n",
    "    print('--------------------------------------------------------------------------------------')\n",
    "    tweets.index = range(len(tweets.index))\n",
    "    tweets.to_pickle(output_csv_file_name_format.format(t))"
   ]
  },
  {
   "cell_type": "code",
   "execution_count": 121,
   "metadata": {},
   "outputs": [
    {
     "data": {
      "text/plain": [
       "6508                                                 None\n",
       "4695                                                 None\n",
       "7012                                                 None\n",
       "6532                                                 None\n",
       "4533                                                 None\n",
       "4189    {'type': 'Polygon', 'coordinates': [[[115.6176...\n",
       "7105                                                 None\n",
       "1787                                                 None\n",
       "5597                                                 None\n",
       "3203                                                 None\n",
       "Name: place_bounding_box, dtype: object"
      ]
     },
     "execution_count": 121,
     "metadata": {},
     "output_type": "execute_result"
    }
   ],
   "source": [
    "tweets['place_bounding_box'].sample(10)"
   ]
  },
  {
   "cell_type": "code",
   "execution_count": 87,
   "metadata": {},
   "outputs": [
    {
     "data": {
      "text/plain": [
       "{'contributors': None,\n",
       " 'coordinates': None,\n",
       " 'created_at': 'Tue Feb 13 23:09:37 +0000 2018',\n",
       " 'display_text_range': [15, 140],\n",
       " 'entities': {'hashtags': [],\n",
       "  'symbols': [],\n",
       "  'urls': [{'display_url': 'twitter.com/i/web/status/9…',\n",
       "    'expanded_url': 'https://twitter.com/i/web/status/963550760012271616',\n",
       "    'indices': [117, 140],\n",
       "    'url': 'https://t.co/VX6ALHjESH'}],\n",
       "  'user_mentions': [{'id': 1850835966,\n",
       "    'id_str': '1850835966',\n",
       "    'indices': [0, 14],\n",
       "    'name': 'Criptominers',\n",
       "    'screen_name': 'cripto_miners'}]},\n",
       " 'extended_tweet': {'display_text_range': [15, 268],\n",
       "  'entities': {'hashtags': [],\n",
       "   'symbols': [],\n",
       "   'urls': [],\n",
       "   'user_mentions': [{'id': 1850835966,\n",
       "     'id_str': '1850835966',\n",
       "     'indices': [0, 14],\n",
       "     'name': 'Criptominers',\n",
       "     'screen_name': 'cripto_miners'}]},\n",
       "  'full_text': '@cripto_miners Bitcoin Gold (BTG) is gaining popularity and becoming more expensive, but you still don’t own it? You have a unique chance to profit and exchange without commission &amp; no confirmations! 1BTC=67BTG &amp; 1BTG=125$ More details and info: btg-claim .com'},\n",
       " 'favorite_count': 0,\n",
       " 'favorited': False,\n",
       " 'filter_level': 'low',\n",
       " 'geo': None,\n",
       " 'id': 963550760012271616,\n",
       " 'id_str': '963550760012271616',\n",
       " 'in_reply_to_screen_name': 'cripto_miners',\n",
       " 'in_reply_to_status_id': 963550609873035264,\n",
       " 'in_reply_to_status_id_str': '963550609873035264',\n",
       " 'in_reply_to_user_id': 1850835966,\n",
       " 'in_reply_to_user_id_str': '1850835966',\n",
       " 'is_quote_status': False,\n",
       " 'lang': 'en',\n",
       " 'place': None,\n",
       " 'quote_count': 0,\n",
       " 'reply_count': 0,\n",
       " 'retweet_count': 0,\n",
       " 'retweeted': False,\n",
       " 'source': '<a href=\"http://twitter.com\" rel=\"nofollow\">Twitter Web Client</a>',\n",
       " 'text': '@cripto_miners Bitcoin Gold (BTG) is gaining popularity and becoming more expensive, but you still don’t own it? Yo… https://t.co/VX6ALHjESH',\n",
       " 'timestamp_ms': '1518563377751',\n",
       " 'truncated': True,\n",
       " 'user': {'contributors_enabled': False,\n",
       "  'created_at': 'Fri Sep 01 13:06:34 +0000 2017',\n",
       "  'default_profile': True,\n",
       "  'default_profile_image': False,\n",
       "  'description': None,\n",
       "  'favourites_count': 0,\n",
       "  'follow_request_sent': None,\n",
       "  'followers_count': 0,\n",
       "  'following': None,\n",
       "  'friends_count': 0,\n",
       "  'geo_enabled': False,\n",
       "  'id': 903604997564325888,\n",
       "  'id_str': '903604997564325888',\n",
       "  'is_translator': False,\n",
       "  'lang': 'ru',\n",
       "  'listed_count': 0,\n",
       "  'location': None,\n",
       "  'name': 'Галина Гордеева',\n",
       "  'notifications': None,\n",
       "  'profile_background_color': 'F5F8FA',\n",
       "  'profile_background_image_url': '',\n",
       "  'profile_background_image_url_https': '',\n",
       "  'profile_background_tile': False,\n",
       "  'profile_image_url': 'http://abs.twimg.com/sticky/default_profile_images/default_profile_normal.png',\n",
       "  'profile_image_url_https': 'https://abs.twimg.com/sticky/default_profile_images/default_profile_normal.png',\n",
       "  'profile_link_color': '1DA1F2',\n",
       "  'profile_sidebar_border_color': 'C0DEED',\n",
       "  'profile_sidebar_fill_color': 'DDEEF6',\n",
       "  'profile_text_color': '333333',\n",
       "  'profile_use_background_image': True,\n",
       "  'protected': False,\n",
       "  'screen_name': 'NYs1YM9lziqMuwR',\n",
       "  'statuses_count': 96,\n",
       "  'time_zone': None,\n",
       "  'translator_type': 'none',\n",
       "  'url': None,\n",
       "  'utc_offset': None,\n",
       "  'verified': False}}"
      ]
     },
     "execution_count": 87,
     "metadata": {},
     "output_type": "execute_result"
    }
   ],
   "source": [
    "lines = None\n",
    "with open(all_files[0],'r') as f:\n",
    "    lines = f.readlines()\n",
    "\n",
    "t = json.loads(lines[0])\n",
    "t"
   ]
  },
  {
   "cell_type": "code",
   "execution_count": 91,
   "metadata": {},
   "outputs": [
    {
     "data": {
      "text/plain": [
       "7507"
      ]
     },
     "execution_count": 91,
     "metadata": {},
     "output_type": "execute_result"
    }
   ],
   "source": [
    "len(lines)"
   ]
  },
  {
   "cell_type": "code",
   "execution_count": 23,
   "metadata": {},
   "outputs": [
    {
     "name": "stdout",
     "output_type": "stream",
     "text": [
      "['marcobonzanini', 'just', 'example', ':D', 'http', ':/', 'example', 'com', 'NLP']\n",
      "['marcobonzanini', 'example', 'http', 'example', 'NLP']\n"
     ]
    }
   ],
   "source": [
    "# Removing unnecessary words and characters\n",
    "emoticons_str = r\"\"\"\n",
    "    (?:\n",
    "        [:=;] # Eyes\n",
    "        [oO\\-]? # Nose (optional)\n",
    "        [D\\)\\]\\(\\]/\\\\OpP] # Mouth\n",
    "    )\"\"\"\n",
    " \n",
    "regex_str = [\n",
    "    emoticons_str,\n",
    "    r\"(?:[a-z][a-z'\\-_]+[a-z])\", # words with - and '\n",
    "]\n",
    "    \n",
    "tokens_re = re.compile(r'('+'|'.join(regex_str)+')', re.VERBOSE | re.IGNORECASE)\n",
    "emoticon_re = re.compile(r'^'+emoticons_str+'$', re.VERBOSE | re.IGNORECASE)\n",
    " \n",
    "def tokenize(s):\n",
    "    return tokens_re.findall(s)\n",
    " \n",
    "def preprocess(s, lowercase=False):\n",
    "    tokens = tokenize(s)\n",
    "    if lowercase:\n",
    "        tokens = [token if emoticon_re.search(token) else token.lower() for token in tokens]\n",
    "    return tokens\n",
    "\n",
    "punctuation = list(string.punctuation)\n",
    "stop = stopwords.words('english') + punctuation + [':/','com',':D','RT','rt', 'via', 'RT', 'I', 'We', 'After', 'The', 'the', '...', 'amp', 'Our', 'accept', 'A', 'FL', 'krab','https','@aoojadi','took','This','us','like','You','put','bathtub','…']\n",
    "\n",
    "tweet = 'RT @marcobonzanini: just an example! :D http://example.com #NLP I ...'\n",
    "print(preprocess(tweet))\n",
    "\n",
    "terms_all = [term for term in preprocess(tweet) if term not in stop]\n",
    "print(terms_all)"
   ]
  },
  {
   "cell_type": "code",
   "execution_count": 8,
   "metadata": {},
   "outputs": [
    {
     "name": "stdout",
     "output_type": "stream",
     "text": [
      "1439\n"
     ]
    }
   ],
   "source": [
    "f = open(\"crypto_tweetsNoL.json\", \"r\")\n",
    "lines = f.readlines()\n",
    "f.close\n",
    "i=0\n",
    "for line in lines:\n",
    "    if i==38196 or 40150:\n",
    "        i=i+1\n",
    "        continue\n",
    "    tweet = json.loads(line)\n",
    "    i= i+1;\n",
    "print(i)"
   ]
  },
  {
   "cell_type": "code",
   "execution_count": 30,
   "metadata": {},
   "outputs": [
    {
     "name": "stdout",
     "output_type": "stream",
     "text": [
      "[('Bitcoin', 55635), ('BTC', 36612), ('global', 21561), ('BTG', 20950), ('cryptocurrency', 20263), ('still', 20056), ('exchanges', 19891), ('launch', 19680), ('start', 19530), ('Gold', 19365), ('Successfully', 18987), ('mainnet', 18879), ('gaining', 18723), ('popularity', 18699), ('becoming', 18662), ('trades', 18616), ('expensive', 18322), ('bitcoin', 18229), ('balance', 17967), ('crypto', 17599)]\n",
      "[(('Successfully', 'launch'), 18869), (('launch', 'mainnet'), 18845), (('Bitcoin', 'Gold'), 18794), (('mainnet', 'global'), 18774), (('Gold', 'BTG'), 18734), (('global', 'exchanges'), 18725), (('BTG', 'gaining'), 18689), (('exchanges', 'start'), 18663), (('gaining', 'popularity'), 18633), (('popularity', 'becoming'), 18536), (('start', 'trades'), 18502), (('becoming', 'expensive'), 18282), (('expensive', 'still'), 17845), (('trades', 'balance'), 17836), (('balance', 'BTC'), 16060), (('claim', 'free'), 6157), (('Use', 'link'), 6118), (('ClassyCoin', 'claim'), 6040), (('free', 'Classycoin'), 6040), (('link', 'follow'), 6036)]\n"
     ]
    }
   ],
   "source": [
    "fname = 'crypto_tweets2NoL.json'\n",
    "with open(fname, 'r') as f:\n",
    "    count_all = Counter()\n",
    "    count_bigram = Counter()\n",
    "    i = -1\n",
    "    for line in f:\n",
    "        i=i+1\n",
    "        if i>500000:\n",
    "            break\n",
    "        elif i==38196:\n",
    "            continue\n",
    "        elif i==40150:\n",
    "            continue\n",
    "        elif i>=268148:\n",
    "            break\n",
    "        else:\n",
    "            #print(line)\n",
    "            tweet = json.loads(line)\n",
    "            keys = tweet.keys()\n",
    "            if 'text' in tweet:\n",
    "                #print(i)\n",
    "                # Create a list with all the terms\n",
    "                terms_all = [term for term in preprocess(tweet['text']) if term not in stop]\n",
    "                terms_bigram = bigrams(terms_all)\n",
    "                # Update the counter\n",
    "                count_all.update(terms_all)\n",
    "                count_bigram.update(terms_bigram)\n",
    "    # Print the first 5 most frequent words\n",
    "    print(count_all.most_common(20))\n",
    "    print(count_bigram.most_common(20))"
   ]
  },
  {
   "cell_type": "code",
   "execution_count": 15,
   "metadata": {
    "collapsed": true
   },
   "outputs": [],
   "source": [
    "with open('crypto_tweetsNoL.json') as infile, open('sample_1000_tweets.json', 'w') as outfile:\n",
    "    i = 1;\n",
    "    for line in infile:\n",
    "        if not line.strip(): continue  # skip the empty line\n",
    "        outfile.write(line)  # non-empty line. Write it to output\n",
    "        if i>999:\n",
    "            break\n",
    "        i+=1"
   ]
  },
  {
   "cell_type": "code",
   "execution_count": 16,
   "metadata": {},
   "outputs": [
    {
     "name": "stdout",
     "output_type": "stream",
     "text": [
      "1000\n"
     ]
    }
   ],
   "source": [
    "f = open(\"sample_1000_tweets.json\", \"r\")\n",
    "lines = f.readlines()\n",
    "f.close\n",
    "i=0\n",
    "for line in lines:\n",
    "    if i==38196 or 40150:\n",
    "        i=i+1\n",
    "        continue\n",
    "    tweet = json.loads(line)\n",
    "    i= i+1;\n",
    "print(i)"
   ]
  },
  {
   "cell_type": "code",
   "execution_count": null,
   "metadata": {
    "collapsed": true
   },
   "outputs": [],
   "source": []
  }
 ],
 "metadata": {
  "kernelspec": {
   "display_name": "Python 3",
   "language": "python",
   "name": "python3"
  },
  "language_info": {
   "codemirror_mode": {
    "name": "ipython",
    "version": 3
   },
   "file_extension": ".py",
   "mimetype": "text/x-python",
   "name": "python",
   "nbconvert_exporter": "python",
   "pygments_lexer": "ipython3",
   "version": "3.6.4"
  }
 },
 "nbformat": 4,
 "nbformat_minor": 2
}
