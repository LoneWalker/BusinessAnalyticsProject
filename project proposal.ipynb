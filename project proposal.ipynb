{
 "cells": [
  {
   "cell_type": "markdown",
   "metadata": {},
   "source": [
    "<h1 align=\"center\"> Milestone 1: Project Proposal </h1>\n",
    "<h2 align=\"center\"> Crypto-currency market analysis using news and social media data</h2>\n",
    "<h3 align=\"center\"> By: Azharul Islam and Md Yasin Kabir </h3>\n"
   ]
  },
  {
   "cell_type": "markdown",
   "metadata": {},
   "source": [
    "# 1. Introduction"
   ]
  },
  {
   "cell_type": "code",
   "execution_count": null,
   "metadata": {
    "collapsed": true
   },
   "outputs": [],
   "source": []
  },
  {
   "cell_type": "markdown",
   "metadata": {},
   "source": [
    "<h5>This para may help. I was start writing about data and wrote it. After that I found it shouldn't be on data and it fit better in intro or problem statement.</h5>\n",
    "\n",
    "Our aim for this project is to process the data from social media (Twitter) and determine the reliability using relevant news. The price of crypto-currencies is highly volatile. It has an immense impact on its price from fake news or rumor also. Moreover, in our primary research, we found that some twitter user has also the ability to manipulate the markets just by a single tweet. "
   ]
  },
  {
   "cell_type": "markdown",
   "metadata": {},
   "source": [
    "# 2. Data Source and Collection"
   ]
  },
  {
   "cell_type": "code",
   "execution_count": null,
   "metadata": {
    "collapsed": true
   },
   "outputs": [],
   "source": []
  }
 ],
 "metadata": {
  "kernelspec": {
   "display_name": "Python 3",
   "language": "python",
   "name": "python3"
  },
  "language_info": {
   "codemirror_mode": {
    "name": "ipython",
    "version": 3
   },
   "file_extension": ".py",
   "mimetype": "text/x-python",
   "name": "python",
   "nbconvert_exporter": "python",
   "pygments_lexer": "ipython3",
   "version": "3.6.3"
  }
 },
 "nbformat": 4,
 "nbformat_minor": 2
}
